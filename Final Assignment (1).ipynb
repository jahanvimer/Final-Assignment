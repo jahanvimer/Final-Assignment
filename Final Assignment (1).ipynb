{
  "metadata": {
    "language_info": {
      "codemirror_mode": {
        "name": "python",
        "version": 3
      },
      "file_extension": ".py",
      "mimetype": "text/x-python",
      "name": "python",
      "nbconvert_exporter": "python",
      "pygments_lexer": "ipython3",
      "version": "3.8"
    },
    "kernelspec": {
      "name": "python",
      "display_name": "Pyolite",
      "language": "python"
    }
  },
  "nbformat_minor": 4,
  "nbformat": 4,
  "cells": [
    {
      "cell_type": "markdown",
      "source": "# My Jupyter Notebook on IBM Watson Studio",
      "metadata": {}
    },
    {
      "cell_type": "markdown",
      "source": "<b>Jahanvi Mer</b>\n\nCurrent occupation - Student. \nMy desired profession is Data Scienctist",
      "metadata": {}
    },
    {
      "cell_type": "markdown",
      "source": "*I am interested in data science beacuse, I have always been fascinated with data. So I think it will be a good profession for me and I think I can do well in it.*",
      "metadata": {}
    },
    {
      "cell_type": "markdown",
      "source": "### The code in the next cell is a Math equation.",
      "metadata": {}
    },
    {
      "cell_type": "code",
      "source": "7536+9516\n5455+6425",
      "metadata": {
        "trusted": true
      },
      "execution_count": 1,
      "outputs": [
        {
          "execution_count": 1,
          "output_type": "execute_result",
          "data": {
            "text/plain": "11880"
          },
          "metadata": {}
        }
      ]
    },
    {
      "cell_type": "markdown",
      "source": "* India\n* Australia\n* United States of America \n\n1. United Kingdom\n2. Korea\n3. Japan",
      "metadata": {}
    },
    {
      "cell_type": "markdown",
      "source": "**Country**|**Short Form**|**Full Form**\n:---:|:---:|:---:\nIndia|INR|Indian Rupee\nAustralia|AUD|Australian Dollar\nUSA|USD|Unites States Dollar\nUK|GBP|Great Britan Pound\nKorea|KRW|Korean Won\nJapan|JPY|Japanese Yen",
      "metadata": {}
    },
    {
      "cell_type": "markdown",
      "source": "`THE END`",
      "metadata": {}
    },
    {
      "cell_type": "markdown",
      "source": "***",
      "metadata": {}
    }
  ]
}